{
  "nbformat": 4,
  "nbformat_minor": 0,
  "metadata": {
    "colab": {
      "provenance": [],
      "toc_visible": true,
      "authorship_tag": "ABX9TyPtOTCbTXHPlj0biNyAqBGk",
      "include_colab_link": true
    },
    "kernelspec": {
      "name": "python3",
      "display_name": "Python 3"
    },
    "language_info": {
      "name": "python"
    }
  },
  "cells": [
    {
      "cell_type": "markdown",
      "metadata": {
        "id": "view-in-github",
        "colab_type": "text"
      },
      "source": [
        "<a href=\"https://colab.research.google.com/github/shccgxqp/scraper/blob/main/matplotlib/matplotlib2.ipynb\" target=\"_parent\"><img src=\"https://colab.research.google.com/assets/colab-badge.svg\" alt=\"Open In Colab\"/></a>"
      ]
    },
    {
      "cell_type": "code",
      "execution_count": null,
      "metadata": {
        "id": "SdJwHY-BwLLA"
      },
      "outputs": [],
      "source": [
        "import numpy as np\n",
        "import matplotlib.pyplot as plt\n",
        "%matplotlib inline"
      ]
    },
    {
      "cell_type": "markdown",
      "source": [
        "##https://steam.oxxostudio.tw/category/python/example/line-bot-weather-1.html"
      ],
      "metadata": {
        "id": "h0F3yEuQz-zy"
      }
    },
    {
      "cell_type": "markdown",
      "source": [
        "#折線圖"
      ],
      "metadata": {
        "id": "AMqb1oZTC97o"
      }
    },
    {
      "cell_type": "code",
      "source": [
        " "
      ],
      "metadata": {
        "id": "yR3Ik-P8FErx"
      },
      "execution_count": null,
      "outputs": []
    },
    {
      "cell_type": "markdown",
      "source": [
        "#散播圖\n"
      ],
      "metadata": {
        "id": "q9-nfLBNDp1m"
      }
    },
    {
      "cell_type": "markdown",
      "source": [
        "#長條圖 "
      ],
      "metadata": {
        "id": "v8Q6LLMyy3U3"
      }
    },
    {
      "cell_type": "code",
      "source": [
        "company = ['Facebook','Google','Tsla','Yahoo']"
      ],
      "metadata": {
        "id": "s8BHw-7DwvI9"
      },
      "execution_count": null,
      "outputs": []
    },
    {
      "cell_type": "code",
      "source": [
        "x = np.arange(len(company))"
      ],
      "metadata": {
        "id": "mplfzJBiw67c"
      },
      "execution_count": null,
      "outputs": []
    },
    {
      "cell_type": "code",
      "source": [
        "y_GrossSales = [44,100,20,56]\n",
        "y_CostSold = [10,9,5,20]"
      ],
      "metadata": {
        "id": "knE2B1hKyXWY"
      },
      "execution_count": null,
      "outputs": []
    },
    {
      "cell_type": "code",
      "source": [
        "plt.bar(x-0.2, y_GrossSales,width=0.4,label='Gross Sales')\n",
        "plt.bar(x+0.2, y_CostSold,width=0.4,label='Cost Sold')\n",
        "for a,b,c in zip(x,y_GrossSales,y_CostSold):\n",
        "  plt.text(a-0.2, b+1, '%.0f' % b, ha='center', va= 'bottom',fontsize=7)\n",
        "  plt.text(a+0.2, c+1, '%.0f' % c, ha='center', va= 'bottom',fontsize=7)\n",
        "plt.xticks(x , company)\n",
        "plt.xlabel('Company Stock')\n",
        "plt.legend()"
      ],
      "metadata": {
        "colab": {
          "base_uri": "https://localhost:8080/",
          "height": 296
        },
        "id": "pyl4S4CQxEeM",
        "outputId": "09001913-f23d-4bb5-e157-48128b0afe5d"
      },
      "execution_count": null,
      "outputs": [
        {
          "output_type": "execute_result",
          "data": {
            "text/plain": [
              "<matplotlib.legend.Legend at 0x7fb4403e31d0>"
            ]
          },
          "metadata": {},
          "execution_count": 24
        },
        {
          "output_type": "display_data",
          "data": {
            "text/plain": [
              "<Figure size 432x288 with 1 Axes>"
            ],
            "image/png": "[encoded data removed]"
          },
          "metadata": {
            "needs_background": "light"
          }
        }
      ]
    },
    {
      "cell_type": "markdown",
      "source": [
        "#圓餅圖"
      ],
      "metadata": {
        "id": "kr0WXyFhD0cu"
      }
    },
    {
      "cell_type": "markdown",
      "source": [
        "#甜甜圈圖"
      ],
      "metadata": {
        "id": "liFdgAafEhTU"
      }
    },
    {
      "cell_type": "markdown",
      "source": [
        "#等高線圖"
      ],
      "metadata": {
        "id": "LJzZFDhwEl5i"
      }
    },
    {
      "cell_type": "markdown",
      "source": [
        "#3D長條圖"
      ],
      "metadata": {
        "id": "72IFV020D6EF"
      }
    }
  ]
}