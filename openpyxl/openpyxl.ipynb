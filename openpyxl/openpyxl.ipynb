{
 "cells": [
  {
   "cell_type": "code",
   "execution_count": 43,
   "metadata": {},
   "outputs": [],
   "source": [
    "import openpyxl as xl\n",
    "from openpyxl.chart import bar_chart, reference"
   ]
  },
  {
   "cell_type": "code",
   "execution_count": 52,
   "metadata": {},
   "outputs": [],
   "source": [
    "wb = xl.load_workbook('stock.xlsx')\n",
    "sheet1 = wb['工作表1']\n",
    "name = sheet1['A2']"
   ]
  },
  {
   "cell_type": "code",
   "execution_count": 37,
   "metadata": {},
   "outputs": [],
   "source": [
    "for row in range(2, sheet1.max_row + 1):\n",
    "    price = sheet1.cell(row, 2)\n",
    "    cost = sheet1.cell(row,3)\n",
    "    share = sheet1.cell(row,4)\n",
    "    money = (price.value-cost.value)*share.value\n",
    "    money_cell = sheet1.cell(row,5)\n",
    "    money_cell.value = money\n",
    "    #print(cell1.value)"
   ]
  },
  {
   "cell_type": "code",
   "execution_count": 47,
   "metadata": {},
   "outputs": [],
   "source": [
    "values = reference.Reference(sheet1,min_row=2,max_row=sheet1.max_row,min_col=5,max_col=5)"
   ]
  },
  {
   "cell_type": "code",
   "execution_count": 48,
   "metadata": {},
   "outputs": [],
   "source": [
    "chart = bar_chart.BarChart()"
   ]
  },
  {
   "cell_type": "code",
   "execution_count": 49,
   "metadata": {},
   "outputs": [],
   "source": [
    "chart.add_data(values)"
   ]
  },
  {
   "cell_type": "code",
   "execution_count": 50,
   "metadata": {},
   "outputs": [],
   "source": [
    "sheet1.add_chart(chart, 'a6')"
   ]
  },
  {
   "cell_type": "code",
   "execution_count": 51,
   "metadata": {},
   "outputs": [],
   "source": [
    "wb.save('stock1.xlsx')"
   ]
  }
 ],
 "metadata": {
  "kernelspec": {
   "display_name": "Python 3.10.7 64-bit",
   "language": "python",
   "name": "python3"
  },
  "language_info": {
   "codemirror_mode": {
    "name": "ipython",
    "version": 3
   },
   "file_extension": ".py",
   "mimetype": "text/x-python",
   "name": "python",
   "nbconvert_exporter": "python",
   "pygments_lexer": "ipython3",
   "version": "3.10.7"
  },
  "orig_nbformat": 4,
  "vscode": {
   "interpreter": {
    "hash": "4d784b92343e80c212dfebd435b5387631e2efee0165c45d3020e2a6c9e13079"
   }
  }
 },
 "nbformat": 4,
 "nbformat_minor": 2
}
