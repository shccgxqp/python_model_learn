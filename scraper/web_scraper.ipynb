{
  "nbformat": 4,
  "nbformat_minor": 0,
  "metadata": {
    "colab": {
      "provenance": [],
      "authorship_tag": "ABX9TyO77H0siP67cYTyK2s8qxta",
      "include_colab_link": true
    },
    "kernelspec": {
      "name": "python3",
      "display_name": "Python 3"
    },
    "language_info": {
      "name": "python"
    }
  },
  "cells": [
    {
      "cell_type": "markdown",
      "metadata": {
        "id": "view-in-github",
        "colab_type": "text"
      },
      "source": [
        "<a href=\"https://colab.research.google.com/github/shccgxqp/python_model_learn/blob/main/scraper/web_scraper.ipynb\" target=\"_parent\"><img src=\"https://colab.research.google.com/assets/colab-badge.svg\" alt=\"Open In Colab\"/></a>"
      ]
    },
    {
      "cell_type": "code",
      "execution_count": null,
      "metadata": {
        "colab": {
          "base_uri": "https://localhost:8080/"
        },
        "id": "xeR85rSUKVMy",
        "outputId": "26287488-ea83-479e-b391-b9a26485e32d"
      },
      "outputs": [
        {
          "output_type": "stream",
          "name": "stdout",
          "text": [
            "\u001b[?25l\r\u001b[K     |█████▏                          | 10 kB 17.8 MB/s eta 0:00:01\r\u001b[K     |██████████▍                     | 20 kB 20.5 MB/s eta 0:00:01\r\u001b[K     |███████████████▋                | 30 kB 25.5 MB/s eta 0:00:01\r\u001b[K     |████████████████████▉           | 40 kB 17.2 MB/s eta 0:00:01\r\u001b[K     |██████████████████████████      | 51 kB 6.0 MB/s eta 0:00:01\r\u001b[K     |███████████████████████████████▎| 61 kB 7.0 MB/s eta 0:00:01\r\u001b[K     |████████████████████████████████| 62 kB 1.2 MB/s \n",
            "\u001b[?25h"
          ]
        }
      ],
      "source": [
        "!pip install yfinance -q"
      ]
    },
    {
      "cell_type": "code",
      "source": [
        "import requests \n",
        "from bs4 import BeautifulSoup\n",
        "import numpy as np\n",
        "import pandas as pd"
      ],
      "metadata": {
        "id": "7yd_uWj0j_Zu"
      },
      "execution_count": 48,
      "outputs": []
    },
    {
      "cell_type": "code",
      "source": [
        "def gettwyahoostock(stock):\n",
        "  url = 'https://tw.stock.yahoo.com/quote/' + str(stock)    \n",
        "  web = requests.get(url)                  \n",
        "  soup = BeautifulSoup(web.text, \"html.parser\")  \n",
        "  title = soup.find('h1')            \n",
        "  a = soup.select('.Fz(32px)')[0]    \n",
        "  b = soup.select('.Fz(20px)')[0]    \n",
        "  s = ''                          \n",
        "  try:\n",
        "      if soup.select('#main-0-QuoteHeader-Proxy')[0].select('.C($c-trend-down)')[0]:\n",
        "          s = '-'\n",
        "  except:\n",
        "      try:\n",
        "          if soup.select('#main-0-QuoteHeader-Proxy')[0].select('.C($c-trend-up)')[0]:\n",
        "              s = '+'\n",
        "      except:\n",
        "          s = '-'\n",
        "\n",
        "  print(f'{title.get_text()} : {a.get_text()} ( {s}{b.get_text()} )')   \n",
        "\n",
        "gettwyahoostock(6138)"
      ],
      "metadata": {
        "id": "fmIiBCbRdDB3",
        "colab": {
          "base_uri": "https://localhost:8080/"
        },
        "outputId": "89d3d491-201c-4350-bd26-a9424b0076d5"
      },
      "execution_count": null,
      "outputs": [
        {
          "output_type": "stream",
          "name": "stdout",
          "text": [
            "茂達 : 105.0 ( -3.0 )\n"
          ]
        }
      ]
    },
    {
      "cell_type": "code",
      "source": [
        "def getyahoofinance(stock):\n",
        "  url = 'https://finance.yahoo.com/quote/' + str(stock)    \n",
        "  web = requests.get(url)                    \n",
        "  soup = BeautifulSoup(web.text, \"html.parser\")   \n",
        "  title = soup.find('h1')   \n",
        "  stockdata = soup.select('.Fz(36px)')[0]\n",
        "  print(' url :', url, '\\n name :', title.text)\n",
        "  return (title.text + ' ' + stockdata.text)\n",
        "\n",
        "getyahoofinance('AAPL')"
      ],
      "metadata": {
        "outputId": "791818de-1fd5-4da1-ba13-2f4162c81bfb",
        "colab": {
          "base_uri": "https://localhost:8080/",
          "height": 70
        },
        "id": "26Jc27YYdwMd"
      },
      "execution_count": null,
      "outputs": [
        {
          "output_type": "stream",
          "name": "stdout",
          "text": [
            " url : https://finance.yahoo.com/quote/AAPL \n",
            " name : Apple Inc. (AAPL)\n"
          ]
        },
        {
          "output_type": "execute_result",
          "data": {
            "text/plain": [
              "'Apple Inc. (AAPL) 144.80'"
            ],
            "application/vnd.google.colaboratory.intrinsic+json": {
              "type": "string"
            }
          },
          "metadata": {},
          "execution_count": 48
        }
      ]
    },
    {
      "cell_type": "code",
      "source": [
        "def getgoodinf(stock):\n",
        "  url = 'https://tw.stock.yahoo.com/quote/'+str(stock)+'/institutional-trading'\n",
        "  web = requests.get(url)\n",
        "  #web.encoding = 'utf-8'\n",
        "  soup = BeautifulSoup(web.text, \"html.parser\") \n",
        "  title = soup.find('h1')\n",
        "  stocktable = soup.find_all('ul',class_='M(0) P(0) List(n)')[0]\n",
        "  for i in stocktable.find_all('li'):\n",
        "    print(i.text)\n",
        "\n",
        "\n",
        "getgoodinf(2337)"
      ],
      "metadata": {
        "colab": {
          "base_uri": "https://localhost:8080/"
        },
        "id": "rAP4YYGCI1dq",
        "outputId": "c8309164-c343-498e-a827-bd261d6d7bae"
      },
      "execution_count": 50,
      "outputs": [
        {
          "output_type": "stream",
          "name": "stdout",
          "text": [
            "外資5,5693,1222,447連2買 (7,453)\n",
            "投信770連4賣→平 (0)\n",
            "自營商628125503連2買 (1,195)\n",
            "三大法人6,2043,2542,950連2買 (7,701)\n"
          ]
        }
      ]
    },
    {
      "cell_type": "code",
      "source": [],
      "metadata": {
        "id": "U-ovnW-kPCBw"
      },
      "execution_count": null,
      "outputs": []
    }
  ]
}