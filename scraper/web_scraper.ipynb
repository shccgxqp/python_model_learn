{
  "cells": [
    {
      "cell_type": "markdown",
      "metadata": {
        "colab_type": "text",
        "id": "view-in-github"
      },
      "source": [
        "<a href=\"https://colab.research.google.com/github/shccgxqp/scraper/blob/main/web_scraper.ipynb\" target=\"_parent\"><img src=\"https://colab.research.google.com/assets/colab-badge.svg\" alt=\"Open In Colab\"/></a>"
      ]
    },
    {
      "cell_type": "markdown",
      "metadata": {
        "id": "UxzHP_picx8Z"
      },
      "source": [
        "開啟時，下方要先執行載入"
      ]
    },
    {
      "cell_type": "code",
      "execution_count": 6,
      "metadata": {
        "id": "7yd_uWj0j_Zu"
      },
      "outputs": [],
      "source": [
        "import requests \n",
        "from bs4 import BeautifulSoup"
      ]
    },
    {
      "cell_type": "markdown",
      "metadata": {
        "id": "-wuPtj4hcQpd"
      },
      "source": [
        "查詢台股"
      ]
    },
    {
      "cell_type": "code",
      "execution_count": 7,
      "metadata": {
        "colab": {
          "base_uri": "https://localhost:8080/"
        },
        "id": "fmIiBCbRdDB3",
        "outputId": "62b3c0a2-a0f1-4d15-c393-4356ba25c460"
      },
      "outputs": [],
      "source": [
        "def gettwyahoostock(stock):\n",
        "    \n",
        "    url = 'https://tw.stock.yahoo.com/quote/' + str(stock)\n",
        "    web = requests.get(url)      \n",
        "\n",
        "    if web.status_code == 404:\n",
        "        return False \n",
        "\n",
        "    soup = BeautifulSoup(web.text, \"html.parser\")  \n",
        "    title = soup.find('h1')            \n",
        "    price = soup.find_all('span','Fz(32px)')[0]\n",
        "    price_change = soup.find_all('span','Fz(20px)')[0]\n",
        "    price_change_percent = soup.find_all('span','Jc(fe)')[0]\n",
        "\n",
        "    return(web.status_code,title.text,price.text,price_change.text,price_change_percent.text)\n"
      ]
    },
    {
      "cell_type": "code",
      "execution_count": 8,
      "metadata": {},
      "outputs": [
        {
          "data": {
            "text/plain": [
              "(200, '台積電', '379.5', '6.0', '(1.56%)')"
            ]
          },
          "execution_count": 8,
          "metadata": {},
          "output_type": "execute_result"
        }
      ],
      "source": [
        "stock = input('請輸入台股')\n",
        "gettwyahoostock(stock)"
      ]
    },
    {
      "cell_type": "markdown",
      "metadata": {
        "id": "6W7XFl-vcJ9_"
      },
      "source": [
        "查詢美股"
      ]
    },
    {
      "cell_type": "code",
      "execution_count": 9,
      "metadata": {
        "colab": {
          "base_uri": "https://localhost:8080/"
        },
        "id": "FI1YhEd2ck66",
        "outputId": "dc18b498-ae71-4f14-ba90-8731ab4227e5"
      },
      "outputs": [],
      "source": [
        "def getyahoofinance1(stock):\n",
        "  url = 'https://finance.yahoo.com/quote/' + str(stock)    \n",
        "  web = requests.get(url)          \n",
        "  soup = BeautifulSoup(web.text, 'lxml')   \n",
        "  title = soup.find('h1')\n",
        "  price = soup.find_all('fin-streamer',class_=\"Fw(b) Fz(36px) Mb(-4px) D(ib)\")[0]\n",
        "  price_change = soup.find_all('fin-streamer',class_=\"Fw(500) Pstart(8px) Fz(24px)\")[0]\n",
        "  price_change_percent = soup.find_all('fin-streamer',class_=\"Fw(500) Pstart(8px) Fz(24px)\")[1]\n",
        "  print(' url :', url, '\\n name :', title.text,'\\n change :',price_change.text,'\\n percent :',price_change_percent.text)\n",
        "  return (title.text,price.text,price_change.text,price_change_percent.text)"
      ]
    },
    {
      "cell_type": "code",
      "execution_count": 10,
      "metadata": {},
      "outputs": [
        {
          "name": "stdout",
          "output_type": "stream",
          "text": [
            " url : https://finance.yahoo.com/quote/AAPL \n",
            " name : Apple Inc. (AAPL) \n",
            " change : +10.94 \n",
            " percent : (+7.56%)\n"
          ]
        },
        {
          "data": {
            "text/plain": [
              "('Apple Inc. (AAPL)', '155.74', '+10.94', '(+7.56%)')"
            ]
          },
          "execution_count": 10,
          "metadata": {},
          "output_type": "execute_result"
        }
      ],
      "source": [
        "stock = input('請輸入美股')\n",
        "getyahoofinance1(stock)"
      ]
    }
  ],
  "metadata": {
    "colab": {
      "authorship_tag": "ABX9TyNWurLUpz+Kog+XX1ljZ48h",
      "include_colab_link": true,
      "provenance": []
    },
    "kernelspec": {
      "display_name": "Python 3.10.7 64-bit",
      "language": "python",
      "name": "python3"
    },
    "language_info": {
      "codemirror_mode": {
        "name": "ipython",
        "version": 3
      },
      "file_extension": ".py",
      "mimetype": "text/x-python",
      "name": "python",
      "nbconvert_exporter": "python",
      "pygments_lexer": "ipython3",
      "version": "3.10.7"
    },
    "vscode": {
      "interpreter": {
        "hash": "4d784b92343e80c212dfebd435b5387631e2efee0165c45d3020e2a6c9e13079"
      }
    }
  },
  "nbformat": 4,
  "nbformat_minor": 0
}
