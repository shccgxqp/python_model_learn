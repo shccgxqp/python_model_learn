{
  "nbformat": 4,
  "nbformat_minor": 0,
  "metadata": {
    "colab": {
      "provenance": [],
      "authorship_tag": "ABX9TyOahXJKW95UASWTUG9Dx3PN",
      "include_colab_link": true
    },
    "kernelspec": {
      "name": "python3",
      "display_name": "Python 3"
    },
    "language_info": {
      "name": "python"
    }
  },
  "cells": [
    {
      "cell_type": "markdown",
      "metadata": {
        "id": "view-in-github",
        "colab_type": "text"
      },
      "source": [
        "<a href=\"https://colab.research.google.com/github/shccgxqp/python_model_learn/blob/main/scraper/web_scraper.ipynb\" target=\"_parent\"><img src=\"https://colab.research.google.com/assets/colab-badge.svg\" alt=\"Open In Colab\"/></a>"
      ]
    },
    {
      "cell_type": "code",
      "source": [
        "import requests \n",
        "from bs4 import BeautifulSoup\n",
        "import numpy as np\n",
        "import pandas as pd"
      ],
      "metadata": {
        "id": "7yd_uWj0j_Zu"
      },
      "execution_count": 2,
      "outputs": []
    },
    {
      "cell_type": "code",
      "source": [
        "def gettwyahoostock(stock):\n",
        "  url = 'https://tw.stock.yahoo.com/quote/' + str(stock)    \n",
        "  web = requests.get(url)                  \n",
        "  soup = BeautifulSoup(web.text, \"html.parser\")  \n",
        "  title = soup.find('h1')            \n",
        "  a = soup.select('.Fz(32px)')[0]    \n",
        "  b = soup.select('.Fz(20px)')[0]    \n",
        "  s = ''                          \n",
        "  try:\n",
        "      if soup.select('#main-0-QuoteHeader-Proxy')[0].select('.C($c-trend-down)')[0]:\n",
        "          s = '-'\n",
        "  except:\n",
        "      try:\n",
        "          if soup.select('#main-0-QuoteHeader-Proxy')[0].select('.C($c-trend-up)')[0]:\n",
        "              s = '+'\n",
        "      except:\n",
        "          s = '-'\n",
        "\n",
        "  print(f'{title.get_text()} : {a.get_text()} ( {s}{b.get_text()} )')   \n",
        "\n",
        "gettwyahoostock(6138)"
      ],
      "metadata": {
        "id": "fmIiBCbRdDB3",
        "colab": {
          "base_uri": "https://localhost:8080/"
        },
        "outputId": "89d3d491-201c-4350-bd26-a9424b0076d5"
      },
      "execution_count": null,
      "outputs": [
        {
          "output_type": "stream",
          "name": "stdout",
          "text": [
            "茂達 : 105.0 ( -3.0 )\n"
          ]
        }
      ]
    },
    {
      "cell_type": "code",
      "source": [
        "def getyahoofinance(stock):\n",
        "  url = 'https://finance.yahoo.com/quote/' + str(stock)    \n",
        "  web = requests.get(url)                    \n",
        "  soup = BeautifulSoup(web.text, \"html.parser\")   \n",
        "  title = soup.find('h1')   \n",
        "  stockdata = soup.select('.Fz(36px)')[0]\n",
        "  print(' url :', url, '\\n name :', title.text)\n",
        "  return (title.text + ' ' + stockdata.text)\n",
        "\n",
        "getyahoofinance('AAPL')"
      ],
      "metadata": {
        "outputId": "791818de-1fd5-4da1-ba13-2f4162c81bfb",
        "colab": {
          "base_uri": "https://localhost:8080/",
          "height": 70
        },
        "id": "26Jc27YYdwMd"
      },
      "execution_count": null,
      "outputs": [
        {
          "output_type": "stream",
          "name": "stdout",
          "text": [
            " url : https://finance.yahoo.com/quote/AAPL \n",
            " name : Apple Inc. (AAPL)\n"
          ]
        },
        {
          "output_type": "execute_result",
          "data": {
            "text/plain": [
              "'Apple Inc. (AAPL) 144.80'"
            ],
            "application/vnd.google.colaboratory.intrinsic+json": {
              "type": "string"
            }
          },
          "metadata": {},
          "execution_count": 48
        }
      ]
    },
    {
      "cell_type": "code",
      "source": [
        "def getgoodinf(stock):\n",
        "  url = 'https://tw.stock.yahoo.com/quote/'+str(stock)+'/institutional-trading'\n",
        "  web = requests.get(url)\n",
        "  #web.encoding = 'utf-8'\n",
        "  soup = BeautifulSoup(web.text, \"html.parser\") \n",
        "  title = soup.find('h1')\n",
        "  stocktable = soup.find_all('ul',class_='M(0) P(0) List(n)')[1]\n",
        "  for row in stocktable.find_all('li'):\n",
        "    re = []\n",
        "    for div in row.find_all('div')[2:]:\n",
        "      re.append(div.text)\n",
        "    print(re)\n",
        "\n",
        "getgoodinf(2337)"
      ],
      "metadata": {
        "id": "rAP4YYGCI1dq"
      },
      "execution_count": null,
      "outputs": []
    },
    {
      "cell_type": "code",
      "source": [
        "web = requests.get('https://www.ptt.cc/bbs/Beauty/index.html', cookies={'over18':'1'}) \n",
        "soup = BeautifulSoup(web.text, 'html.parser')\n",
        "divs = soup.find_all('div',class_='title')\n",
        "for div in divs:\n",
        "  if div.a != None:\n",
        "    print(div.a['href'],div.text)\n"
      ],
      "metadata": {
        "id": "4LB3CxcxS-GM",
        "outputId": "1b839947-50aa-4759-dc7f-f56919bc08ca",
        "colab": {
          "base_uri": "https://localhost:8080/"
        }
      },
      "execution_count": 62,
      "outputs": [
        {
          "output_type": "stream",
          "name": "stdout",
          "text": [
            "/bbs/Beauty/M.1667372051.A.097.html \n",
            "[正妹] 一張小沁\n",
            "\n",
            "/bbs/Beauty/M.1667385790.A.C17.html \n",
            "[正妹] 林瑟七\n",
            "\n",
            "/bbs/Beauty/M.1667386264.A.A5D.html \n",
            "[神人] 抖音的正妹\n",
            "\n",
            "/bbs/Beauty/M.1667387181.A.40F.html \n",
            "[正妹] 大尺碼｜肉特(988)｜US｜47\n",
            "\n",
            "/bbs/Beauty/M.1667393722.A.1A5.html \n",
            "[正妹] Bridgett Rollins 美國模特兒\n",
            "\n",
            "/bbs/Beauty/M.1667394311.A.EC9.html \n",
            "[正妹] 陳敬宣 28\n",
            "\n",
            "/bbs/Beauty/M.1667406795.A.ABD.html \n",
            "[正妹] 戸田真琴\n",
            "\n",
            "/bbs/Beauty/M.1667426269.A.1B8.html \n",
            "[正妹] 吳丹丹\n",
            "\n",
            "/bbs/Beauty/M.1667433399.A.375.html \n",
            "[正妹] 2020 阿根廷和波多黎各選美皇后\n",
            "\n",
            "/bbs/Beauty/M.1667443513.A.248.html \n",
            "[神人] 請問他是誰\n",
            "\n",
            "/bbs/Beauty/M.1667452555.A.8CB.html \n",
            "[神人] 某交友APP廣告女主角\n",
            "\n",
            "/bbs/Beauty/M.1667453411.A.AE9.html \n",
            "[神人] 桃園清秀護理師\n",
            "\n",
            "/bbs/Beauty/M.1667453956.A.D33.html \n",
            "[正妹] 刺青 腿\n",
            "\n",
            "/bbs/Beauty/M.1663845030.A.EF9.html \n",
            "[公告] 不願上表特 ＆ 優文推薦 ＆ 檢舉建議專區\n",
            "\n",
            "/bbs/Beauty/M.1621836193.A.468.html \n",
            "[公告] 口罩文會退文\n",
            "\n",
            "/bbs/Beauty/M.1666371664.A.B29.html \n",
            "[公告] 表特板板規(2022.10.22) \n",
            "\n"
          ]
        }
      ]
    }
  ]
}