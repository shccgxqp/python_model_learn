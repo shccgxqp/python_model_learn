{
  "nbformat": 4,
  "nbformat_minor": 0,
  "metadata": {
    "colab": {
      "provenance": [],
      "authorship_tag": "ABX9TyNWurLUpz+Kog+XX1ljZ48h",
      "include_colab_link": true
    },
    "kernelspec": {
      "name": "python3",
      "display_name": "Python 3"
    },
    "language_info": {
      "name": "python"
    }
  },
  "cells": [
    {
      "cell_type": "markdown",
      "metadata": {
        "id": "view-in-github",
        "colab_type": "text"
      },
      "source": [
        "<a href=\"https://colab.research.google.com/github/shccgxqp/scraper/blob/main/web_scraper.ipynb\" target=\"_parent\"><img src=\"https://colab.research.google.com/assets/colab-badge.svg\" alt=\"Open In Colab\"/></a>"
      ]
    },
    {
      "cell_type": "markdown",
      "source": [
        "開啟時，下方要先執行載入"
      ],
      "metadata": {
        "id": "UxzHP_picx8Z"
      }
    },
    {
      "cell_type": "code",
      "source": [
        "import requests \n",
        "from bs4 import BeautifulSoup"
      ],
      "metadata": {
        "id": "7yd_uWj0j_Zu"
      },
      "execution_count": 5,
      "outputs": []
    },
    {
      "cell_type": "markdown",
      "source": [
        "抓取台股"
      ],
      "metadata": {
        "id": "-wuPtj4hcQpd"
      }
    },
    {
      "cell_type": "code",
      "source": [
        "def gettwyahoostock(stock):\n",
        "  url = 'https://tw.stock.yahoo.com/quote/' + str(stock)    \n",
        "  web = requests.get(url)                  \n",
        "  soup = BeautifulSoup(web.text, \"html.parser\")  \n",
        "  title = soup.find('h1')            \n",
        "  a = soup.select('.Fz(32px)')[0]    \n",
        "  b = soup.select('.Fz(20px)')[0]    \n",
        "  s = ''                          \n",
        "  try:\n",
        "      if soup.select('#main-0-QuoteHeader-Proxy')[0].select('.C($c-trend-down)')[0]:\n",
        "          s = '-'\n",
        "  except:\n",
        "      try:\n",
        "          if soup.select('#main-0-QuoteHeader-Proxy')[0].select('.C($c-trend-up)')[0]:\n",
        "              s = '+'\n",
        "      except:\n",
        "          s = '-'\n",
        "\n",
        "  print(f'{title.get_text()} : {a.get_text()} ( {s}{b.get_text()} )')   \n",
        "\n",
        "gettwyahoostock(2330)"
      ],
      "metadata": {
        "id": "fmIiBCbRdDB3",
        "colab": {
          "base_uri": "https://localhost:8080/"
        },
        "outputId": "62b3c0a2-a0f1-4d15-c393-4356ba25c460"
      },
      "execution_count": null,
      "outputs": [
        {
          "output_type": "stream",
          "name": "stdout",
          "text": [
            "台積電 : 379.5 ( -6.0 )\n"
          ]
        }
      ]
    },
    {
      "cell_type": "markdown",
      "source": [
        "抓取美股"
      ],
      "metadata": {
        "id": "6W7XFl-vcJ9_"
      }
    },
    {
      "cell_type": "code",
      "source": [
        "def getyahoofinance(stock):\n",
        "  url = 'https://finance.yahoo.com/quote/' + str(stock)    \n",
        "  web = requests.get(url)                    \n",
        "  soup = BeautifulSoup(web.text, \"html.parser\")   \n",
        "  title = soup.find('h1')   \n",
        "  stockdata = soup.select('.Fz(36px)')[0]\n",
        "  print(' url :', url, '\\n name :', title.text)\n",
        "  return (title.text + ' ' + stockdata.text)\n",
        "\n",
        "getyahoofinance('AAPL')"
      ],
      "metadata": {
        "outputId": "222f6c86-11f4-4188-ff9e-6026686b490d",
        "colab": {
          "base_uri": "https://localhost:8080/",
          "height": 70
        },
        "id": "26Jc27YYdwMd"
      },
      "execution_count": 2,
      "outputs": [
        {
          "output_type": "stream",
          "name": "stdout",
          "text": [
            " url : https://finance.yahoo.com/quote/AAPL \n",
            " name : Apple Inc. (AAPL)\n"
          ]
        },
        {
          "output_type": "execute_result",
          "data": {
            "text/plain": [
              "'Apple Inc. (AAPL) 155.74'"
            ],
            "application/vnd.google.colaboratory.intrinsic+json": {
              "type": "string"
            }
          },
          "metadata": {},
          "execution_count": 2
        }
      ]
    },
    {
      "cell_type": "markdown",
      "source": [
        "上方指令在VSC上會出錯，下面換一個寫法"
      ],
      "metadata": {
        "id": "gTow8CS8cQk5"
      }
    },
    {
      "cell_type": "code",
      "source": [
        "def getyahoofinance1(stock):\n",
        "  url = 'https://finance.yahoo.com/quote/' + str(stock)    \n",
        "  web = requests.get(url)          \n",
        "  soup = BeautifulSoup(web.text, 'lxml')   \n",
        "  title = soup.find('h1')\n",
        "  price = soup.find_all('fin-streamer',class_=\"Fw(b) Fz(36px) Mb(-4px) D(ib)\")[0]\n",
        "  price_change = soup.find_all('fin-streamer',class_=\"Fw(500) Pstart(8px) Fz(24px)\")[0]\n",
        "  price_change_percent = soup.find_all('fin-streamer',class_=\"Fw(500) Pstart(8px) Fz(24px)\")[1]\n",
        "  print(' url :', url, '\\n name :', title.text,'\\n change :',price_change.text,'\\n percent :',price_change_percent.text)\n",
        "  return (title.text,price.text,price_change.text,price_change_percent.text)\n",
        "\n",
        "getyahoofinance1('AAPL')\n"
      ],
      "metadata": {
        "id": "FI1YhEd2ck66",
        "outputId": "dc18b498-ae71-4f14-ba90-8731ab4227e5",
        "colab": {
          "base_uri": "https://localhost:8080/"
        }
      },
      "execution_count": 6,
      "outputs": [
        {
          "output_type": "stream",
          "name": "stdout",
          "text": [
            " url : https://finance.yahoo.com/quote/AAPL \n",
            " name : Apple Inc. (AAPL) \n",
            " change : +10.94 \n",
            " percent : (+7.56%)\n"
          ]
        },
        {
          "output_type": "execute_result",
          "data": {
            "text/plain": [
              "('Apple Inc. (AAPL)', '155.74', '+10.94', '(+7.56%)')"
            ]
          },
          "metadata": {},
          "execution_count": 6
        }
      ]
    }
  ]
}