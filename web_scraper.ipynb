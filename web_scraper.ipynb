{
  "nbformat": 4,
  "nbformat_minor": 0,
  "metadata": {
    "colab": {
      "provenance": [],
      "authorship_tag": "ABX9TyMcQAURhmYWcGI0fyEHl4uS",
      "include_colab_link": true
    },
    "kernelspec": {
      "name": "python3",
      "display_name": "Python 3"
    },
    "language_info": {
      "name": "python"
    }
  },
  "cells": [
    {
      "cell_type": "markdown",
      "metadata": {
        "id": "view-in-github",
        "colab_type": "text"
      },
      "source": [
        "<a href=\"https://colab.research.google.com/github/shccgxqp/scraper/blob/main/web_scraper.ipynb\" target=\"_parent\"><img src=\"https://colab.research.google.com/assets/colab-badge.svg\" alt=\"Open In Colab\"/></a>"
      ]
    },
    {
      "cell_type": "code",
      "execution_count": null,
      "metadata": {
        "colab": {
          "base_uri": "https://localhost:8080/"
        },
        "id": "xeR85rSUKVMy",
        "outputId": "6b657f36-be03-4003-c9bc-9dd682c047c0"
      },
      "outputs": [
        {
          "output_type": "stream",
          "name": "stdout",
          "text": [
            "\u001b[?25l\r\u001b[K     |█████▏                          | 10 kB 31.3 MB/s eta 0:00:01\r\u001b[K     |██████████▍                     | 20 kB 40.3 MB/s eta 0:00:01\r\u001b[K     |███████████████▋                | 30 kB 49.9 MB/s eta 0:00:01\r\u001b[K     |████████████████████▉           | 40 kB 42.2 MB/s eta 0:00:01\r\u001b[K     |██████████████████████████      | 51 kB 39.6 MB/s eta 0:00:01\r\u001b[K     |███████████████████████████████▎| 61 kB 43.0 MB/s eta 0:00:01\r\u001b[K     |████████████████████████████████| 62 kB 1.4 MB/s \n",
            "\u001b[?25h"
          ]
        }
      ],
      "source": [
        "!pip install yfinance -q"
      ]
    },
    {
      "cell_type": "code",
      "source": [
        "import requests \n",
        "from bs4 import BeautifulSoup \n",
        "import pandas"
      ],
      "metadata": {
        "id": "xWd__y-KcJ-A"
      },
      "execution_count": 30,
      "outputs": []
    },
    {
      "cell_type": "code",
      "source": [],
      "metadata": {
        "id": "fmIiBCbRdDB3"
      },
      "execution_count": null,
      "outputs": []
    }
  ]
}