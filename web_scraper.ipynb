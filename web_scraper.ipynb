{
  "nbformat": 4,
  "nbformat_minor": 0,
  "metadata": {
    "colab": {
      "provenance": [],
      "authorship_tag": "ABX9TyOIX+Xw5NxI7UEGG1P7mGxj",
      "include_colab_link": true
    },
    "kernelspec": {
      "name": "python3",
      "display_name": "Python 3"
    },
    "language_info": {
      "name": "python"
    }
  },
  "cells": [
    {
      "cell_type": "markdown",
      "metadata": {
        "id": "view-in-github",
        "colab_type": "text"
      },
      "source": [
        "<a href=\"https://colab.research.google.com/github/shccgxqp/scraper/blob/main/web_scraper.ipynb\" target=\"_parent\"><img src=\"https://colab.research.google.com/assets/colab-badge.svg\" alt=\"Open In Colab\"/></a>"
      ]
    },
    {
      "cell_type": "code",
      "execution_count": null,
      "metadata": {
        "colab": {
          "base_uri": "https://localhost:8080/"
        },
        "id": "xeR85rSUKVMy",
        "outputId": "6b657f36-be03-4003-c9bc-9dd682c047c0"
      },
      "outputs": [
        {
          "output_type": "stream",
          "name": "stdout",
          "text": [
            "\u001b[?25l\r\u001b[K     |█████▏                          | 10 kB 31.3 MB/s eta 0:00:01\r\u001b[K     |██████████▍                     | 20 kB 40.3 MB/s eta 0:00:01\r\u001b[K     |███████████████▋                | 30 kB 49.9 MB/s eta 0:00:01\r\u001b[K     |████████████████████▉           | 40 kB 42.2 MB/s eta 0:00:01\r\u001b[K     |██████████████████████████      | 51 kB 39.6 MB/s eta 0:00:01\r\u001b[K     |███████████████████████████████▎| 61 kB 43.0 MB/s eta 0:00:01\r\u001b[K     |████████████████████████████████| 62 kB 1.4 MB/s \n",
            "\u001b[?25h"
          ]
        }
      ],
      "source": [
        "!pip install yfinance -q"
      ]
    },
    {
      "cell_type": "code",
      "source": [
        "import requests \n",
        "from bs4 import BeautifulSoup \n",
        "url = 'https://tw.stock.yahoo.com/quote/2330'    \n",
        "web = requests.get(url)                  \n",
        "soup = BeautifulSoup(web.text, \"html.parser\")  \n",
        "title = soup.find('h1')            \n",
        "a = soup.select('.Fz(32px)')[0]    \n",
        "b = soup.select('.Fz(20px)')[0]    \n",
        "s = ''                          \n",
        "try:\n",
        "    if soup.select('#main-0-QuoteHeader-Proxy')[0].select('.C($c-trend-down)')[0]:\n",
        "        s = '-'\n",
        "except:\n",
        "    try:\n",
        "        if soup.select('#main-0-QuoteHeader-Proxy')[0].select('.C($c-trend-up)')[0]:\n",
        "            s = '+'\n",
        "    except:\n",
        "        s = '-'\n",
        "\n",
        "print(f'{title.get_text()} : {a.get_text()} ( {s}{b.get_text()} )')   "
      ],
      "metadata": {
        "id": "fmIiBCbRdDB3",
        "colab": {
          "base_uri": "https://localhost:8080/"
        },
        "outputId": "696418b2-c5d5-4ae6-d719-24df9317ce0a"
      },
      "execution_count": 2,
      "outputs": [
        {
          "output_type": "stream",
          "name": "stdout",
          "text": [
            "台積電 : 379.5 ( -6.0 )\n"
          ]
        }
      ]
    },
    {
      "cell_type": "code",
      "source": [
        "def getyahoofinance(stock):\n",
        "  url = 'https://finance.yahoo.com/quote/' + stock    \n",
        "  web = requests.get(url)                    \n",
        "  soup = BeautifulSoup(web.text, \"html.parser\")   \n",
        "  title = soup.find('h1')   \n",
        "  a = soup.select('.Fz(36px)')[0]\n",
        "  print(' url :', url, '\\n name :', title.text)\n",
        "  return (title.text + ' ' + a.text)\n",
        "\n",
        "getyahoofinance('AAPL')"
      ],
      "metadata": {
        "outputId": "f46d3ef4-f3bd-42af-8b83-a7ab68050ba4",
        "colab": {
          "base_uri": "https://localhost:8080/",
          "height": 70
        },
        "id": "26Jc27YYdwMd"
      },
      "execution_count": 43,
      "outputs": [
        {
          "output_type": "stream",
          "name": "stdout",
          "text": [
            " url : https://finance.yahoo.com/quote/AAPL \n",
            " name : Apple Inc. (AAPL)\n"
          ]
        },
        {
          "output_type": "execute_result",
          "data": {
            "text/plain": [
              "'Apple Inc. (AAPL) 144.80'"
            ],
            "application/vnd.google.colaboratory.intrinsic+json": {
              "type": "string"
            }
          },
          "metadata": {},
          "execution_count": 43
        }
      ]
    }
  ]
}